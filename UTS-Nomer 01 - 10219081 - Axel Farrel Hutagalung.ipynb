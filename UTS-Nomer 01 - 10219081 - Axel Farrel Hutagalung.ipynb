{
 "cells": [
  {
   "cell_type": "code",
   "execution_count": 1,
   "id": "e02c3ffa",
   "metadata": {},
   "outputs": [
    {
     "name": "stdout",
     "output_type": "stream",
     "text": [
      "Diketahui\n",
      "X = {4,7,5,1,3,6,4,8,5,7,2,5,6,3,9,6,8,5,7,4}\n"
     ]
    }
   ],
   "source": [
    "#UTS-Nomer 01-10219081-Axel Farrel Hutagalung\n",
    "\n",
    "print(\"Diketahui\")\n",
    "print(\"X = {4,7,5,1,3,6,4,8,5,7,2,5,6,3,9,6,8,5,7,4}\")\n",
    "A =[4,7,5,1,3,6,4,8,5,7,2,5,6,3,9,6,8,5,7,4]"
   ]
  },
  {
   "cell_type": "code",
   "execution_count": 2,
   "id": "1eabc35e",
   "metadata": {},
   "outputs": [
    {
     "name": "stdout",
     "output_type": "stream",
     "text": [
      "1. Write codes to obtain x from X and number N from x.\n",
      "Masukkan angka ke- yang ingin dipanggil: 4\n",
      "1\n",
      "None\n"
     ]
    }
   ],
   "source": [
    "print(\"1. Write codes to obtain x from X and number N from x.\")\n",
    "N = int(input(\"Masukkan angka ke- yang ingin dipanggil: \"))\n",
    "x = print(A[N-1])\n",
    "print(x)"
   ]
  },
  {
   "cell_type": "code",
   "execution_count": 3,
   "id": "c17b03cb",
   "metadata": {},
   "outputs": [
    {
     "name": "stdout",
     "output_type": "stream",
     "text": [
      "2. Write codes to obtain mean (xmean), median (xmedian), and mode (xmode) of x.\n",
      "Mean:  5.25\n",
      "Median:  5.5\n",
      "Mode : 5\n"
     ]
    }
   ],
   "source": [
    "print(\"2. Write codes to obtain mean (xmean), median (xmedian), and mode (xmode) of x.\")\n",
    "lenA = len(A)\n",
    "\n",
    "#For find Mean\n",
    "def findmean(A, N):\n",
    "  \n",
    "    sum = 0\n",
    "    for i in range(0, lenA):\n",
    "        sum += A[i]\n",
    "  \n",
    "    return float(sum/lenA)\n",
    "xmean = findmean(A,lenA)\n",
    "print(\"Mean: \",xmean)\n",
    "\n",
    "#For find median\n",
    "A.sort()\n",
    " \n",
    "if lenA % 2 == 0:\n",
    "    median1 = float(A[lenA//2])\n",
    "    median2 = float(A[lenA//2 + 1])\n",
    "    median = float((median1 + median2)/2)\n",
    "else:\n",
    "    median = A[lenA//2]\n",
    "\n",
    "print(\"Median: \",median)\n",
    "\n",
    "#For find mode\n",
    "from collections import Counter\n",
    "data = Counter(A)\n",
    "get_mode = dict(data)\n",
    "mode = [k for k, v in get_mode.items() if v == max(list(data.values()))]\n",
    " \n",
    "if len(mode) == lenA:\n",
    "    get_mode = \"No mode found\"\n",
    "else:\n",
    "    get_mode = \"Mode : \" + ', '.join(map(str, mode))\n",
    "print(get_mode)\n"
   ]
  },
  {
   "cell_type": "code",
   "execution_count": 4,
   "id": "921f175d",
   "metadata": {},
   "outputs": [
    {
     "name": "stdout",
     "output_type": "stream",
     "text": [
      "3. Write codes to obtain maximum x_max, minimum x_min, and range x_range of x.\n",
      "Maximum:  9\n",
      "Minimum:  1\n",
      "Range:  8\n"
     ]
    }
   ],
   "source": [
    "print(\"3. Write codes to obtain maximum x_max, minimum x_min, and range x_range of x.\")\n",
    "lenA = len(A)\n",
    "A.sort()\n",
    "#For Find Maximum\n",
    "xmax = max(A)\n",
    "print(\"Maximum: \",xmax)\n",
    "\n",
    "#For Find Minimum\n",
    "xmin = min(A)\n",
    "print(\"Minimum: \",xmin)\n",
    "\n",
    "#For Find Range\n",
    "xrange = xmax-xmin\n",
    "print(\"Range: \", xrange)"
   ]
  },
  {
   "cell_type": "code",
   "execution_count": 5,
   "id": "fc254d31",
   "metadata": {},
   "outputs": [
    {
     "name": "stdout",
     "output_type": "stream",
     "text": [
      "4. Write codes to obtain variance x_var and standard deviation x_sdev of x.\n",
      "Variance:  4.407894736842105\n",
      "Standard Deviation:  2.0463381929681126\n"
     ]
    }
   ],
   "source": [
    "print(\"4. Write codes to obtain variance x_var and standard deviation x_sdev of x.\")\n",
    "import statistics as st\n",
    "#For find Variance\n",
    "xvar = st.variance(A)\n",
    "print(\"Variance: \",xvar)\n",
    "\n",
    "#For find Standard Deviation\n",
    "xstdev = st.pstdev(A)\n",
    "print(\"Standard Deviation: \", xstdev)"
   ]
  }
 ],
 "metadata": {
  "kernelspec": {
   "display_name": "Python 3 (ipykernel)",
   "language": "python",
   "name": "python3"
  },
  "language_info": {
   "codemirror_mode": {
    "name": "ipython",
    "version": 3
   },
   "file_extension": ".py",
   "mimetype": "text/x-python",
   "name": "python",
   "nbconvert_exporter": "python",
   "pygments_lexer": "ipython3",
   "version": "3.11.2"
  }
 },
 "nbformat": 4,
 "nbformat_minor": 5
}
