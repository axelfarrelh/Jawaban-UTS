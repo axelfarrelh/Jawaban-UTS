{
 "cells": [
  {
   "cell_type": "markdown",
   "id": "6855443c",
   "metadata": {},
   "source": [
    "#UTS-Nomer 04-10219081-Axel Farrel Hutagalung"
   ]
  },
  {
   "cell_type": "markdown",
   "id": "304d1594",
   "metadata": {},
   "source": [
    "1. Modify following lines of code in order to produce right flowchart for finding root using secant method."
   ]
  },
  {
   "cell_type": "code",
   "execution_count": 22,
   "id": "7fd224e6",
   "metadata": {},
   "outputs": [
    {
     "data": {
      "text/html": [
       "<img src=\"https://mermaid.ink/img/CmdyYXBoIFRECiAgICBCKFsiQmVnaW4iXSkgLS0+IAogICAgSVsvIng8c3ViPjA8L3N1Yj4sIHg8c3ViPjE8L3N1Yj4sIDxicj5mKHgpIi9dIC0tPiAKICAgIFAxWyJpID0gMiJdIC0tPiAKICAgIG8xKCgiICIpKSAtLT4KICAgIFAyWyJmJyh4PHN1Yj5pLTE8L3N1Yj4pID0gW2YoeDxzdWI+aS0xPC9zdWI+KSAmbWRhc2g7IGYoeDxzdWI+aS0yPC9zdWI+KV08YnI+ICAgICAgLyAoeDxzdWI+aS0xPC9zdWI+ICZtZGFzaDsgeDxzdWI+aS0yPC9zdWI+KSJdIC0tPgogICAgUDNbIiZEZWx0YTt4ID0gZih4PHN1Yj5pLTE8L3N1Yj4pIC8gZicoeDxzdWI+aS0xPC9zdWI+KSJdLS0+CiAgICBQNFsieDxzdWI+aTwvc3ViPiA9IHg8c3ViPmktMTwvc3ViPiAgICAgICZtZGFzaDsgJkRlbHRhO3giXSAtLT4KICAgIFA1WyImZXBzaWxvbjsgPSB8Zih4PHN1Yj5pPC9zdWI+KXwiXSAtLT4KICAgIEN7IiZlcHNpbG9uOyAmbGU7ICZlcHNpbG9uOzxzdWI+bWF4PC9zdWI+In0gLS0+CiAgICB8bm98IFA2WyJpID0gaSArIDEiXSAgCiAgICBDeyImZXBzaWxvbjsgJmxlOyAmZXBzaWxvbjs8c3ViPm1heDwvc3ViPiJ9IC0tPiB8eWVzfCBPWy8ieDxzdWI+aTwvc3ViPiIvXQogICAgUDZbImkgPSBpICsgMSJdLS0+IG8xKCgiICIpKSAKICAgIE9bLyJ4PHN1Yj5pPC9zdWI+Ii9dLS0+RShbIkVuZCJdKSAgICAK?!white\"/>"
      ],
      "text/plain": [
       "<IPython.core.display.Image object>"
      ]
     },
     "metadata": {},
     "output_type": "display_data"
    }
   ],
   "source": [
    "import base64\n",
    "from IPython.display import Image, display\n",
    "import math\n",
    "import numpy as np\n",
    "import matplotlib.pyplot as plt\n",
    "\n",
    "\n",
    "def flowc(graph, **kwargs):\n",
    "    graphbytes = graph.encode('ascii')\n",
    "    base64_bytes = base64.b64encode(graphbytes)\n",
    "    base64_string = base64_bytes.decode('ascii')\n",
    "    bgcolor = '!white'\n",
    "    display(\n",
    "        Image(\n",
    "            url='https://mermaid.ink/img/'\n",
    "            + base64_string + '?' + bgcolor\n",
    "            )\n",
    "    )\n",
    "\n",
    "g = \"\"\"\n",
    "graph TD\n",
    "    B([\"Begin\"]) --> \n",
    "    I[/\"x<sub>0</sub>, x<sub>1</sub>, <br>f(x)\"/] --> \n",
    "    P1[\"i = 2\"] --> \n",
    "    o1((\" \")) -->\n",
    "    P2[\"f'(x<sub>i-1</sub>) = [f(x<sub>i-1</sub>) &mdash; f(x<sub>i-2</sub>)]<br>\\\n",
    "      / (x<sub>i-1</sub> &mdash; x<sub>i-2</sub>)\"] -->\n",
    "    P3[\"&Delta;x = f(x<sub>i-1</sub>) / f'(x<sub>i-1</sub>)\"]-->\n",
    "    P4[\"x<sub>i</sub> = x<sub>i-1</sub>\\\n",
    "      &mdash; &Delta;x\"] -->\n",
    "    P5[\"&epsilon; = |f(x<sub>i</sub>)|\"] -->\n",
    "    C{\"&epsilon; &le; &epsilon;<sub>max</sub>\"} -->\n",
    "    |no| P6[\"i = i + 1\"]  \n",
    "    C{\"&epsilon; &le; &epsilon;<sub>max</sub>\"} --> |yes| O[/\"x<sub>i</sub>\"/]\n",
    "    P6[\"i = i + 1\"]--> o1((\" \")) \n",
    "    O[/\"x<sub>i</sub>\"/]-->E([\"End\"])    \n",
    "\"\"\"\n",
    "flowc(g)"
   ]
  },
  {
   "cell_type": "markdown",
   "id": "e2dba80c",
   "metadata": {
    "scrolled": false
   },
   "source": [
    "2. Make a function f(x) for $f\\left(x\\right)=x^3-2x^2+x-1$."
   ]
  },
  {
   "cell_type": "code",
   "execution_count": 23,
   "id": "1303b4f0",
   "metadata": {},
   "outputs": [],
   "source": [
    "def f(x):\n",
    "    y = x*x*x-2*x+1-1\n",
    "    return y"
   ]
  },
  {
   "cell_type": "markdown",
   "id": "3a06f489",
   "metadata": {},
   "source": [
    "3. Make a function smaller_root_range(f, xbeg, xend, dx) using f(x) from xbeg = -1 until xend = 2 with dx = 0.1 that return smaller range xleft, xright, where $x_{left} < x_{root} < x_{right}$ and $x_{right} - x_{left} = \\Delta x$. Print the result of this scanning method."
   ]
  },
  {
   "cell_type": "code",
   "execution_count": 29,
   "id": "ed32ec55",
   "metadata": {},
   "outputs": [
    {
     "name": "stdout",
     "output_type": "stream",
     "text": [
      "10000\n",
      "[-0.39999999999999997, 0.2]\n"
     ]
    }
   ],
   "source": [
    "p = int(input())\n",
    "xbeg = -1\n",
    "xend = 2\n",
    "dx = (xend-xbeg)/n\n",
    "\n",
    "x = [i * 0.03 for i in range (0, 100+1)]\n",
    "\n",
    "def smaller_root_range(f, xbeg, xend, dx):\n",
    "    sign = 0\n",
    "    for i in range(p+1):\n",
    "        xi = xbeg + i * dx\n",
    "        xi = round(xi * p)/p\n",
    "\n",
    "        yi = f(xi)\n",
    "        if yi>0:\n",
    "            cur_sign = 1\n",
    "        else:\n",
    "            cur_sign = -1\n",
    "\n",
    "        if i == 0:\n",
    "            sign = cur_sign\n",
    "\n",
    "        if cur_sign * sign < 0:\n",
    "            xleft = xi-dx\n",
    "            xright = xi\n",
    "            break\n",
    "    return[xleft,xright]\n",
    "\n",
    "print (smaller_root_range(f, xbeg, xend, dx))"
   ]
  },
  {
   "cell_type": "markdown",
   "id": "aa67a44a",
   "metadata": {},
   "source": [
    "4. Make function for secant method root_secant() and use function f(x) to find the root with initial conditions are previous values of xbeg and xend. Compare the result from this method with previous method."
   ]
  },
  {
   "cell_type": "code",
   "execution_count": 28,
   "id": "ea8761c3",
   "metadata": {
    "scrolled": true
   },
   "outputs": [
    {
     "name": "stdout",
     "output_type": "stream",
     "text": [
      "1000\n",
      "iter root         f(root)\n",
      "0000 1.000000E+00 -1.000000E+00\n",
      "0001 2.000000E+00 +4.000000E+00\n",
      "0002 1.200000E+00 -6.720000E-01\n",
      "0003 1.315068E+00 -3.558508E-01\n",
      "0004 1.444587E+00 +1.254363E-01\n",
      "0005 1.410831E+00 -1.348137E-02\n",
      "0006 1.414107E+00 -4.263088E-04\n",
      "0007 1.414214E+00 +1.534034E-06\n",
      "0008 1.414214E+00 -1.734448E-10\n"
     ]
    }
   ],
   "source": [
    "s = int(input())\n",
    "\n",
    "xroot = []\n",
    "yroot = []\n",
    "\n",
    "x0 = 1\n",
    "y0 = f(xbeg)\n",
    "xroot.append(x0)\n",
    "yroot.append(y0)\n",
    "\n",
    "x1 = 2\n",
    "y1 = f(xend)\n",
    "xroot.append(x1)\n",
    "yroot.append(y1)\n",
    "    \n",
    "def root_secant(f):\n",
    "    \n",
    "    i = 2\n",
    "    eps = 1E-9\n",
    "    dx = (xend-xbeg)/n\n",
    "    print(\"iter root         f(root)\")\n",
    "    while dx > eps and i < 20:\n",
    "        x0 = xroot[i-2]\n",
    "        x1 = xroot[i-1]\n",
    "        if i == 2:\n",
    "            print(f\"{i-2:04d}\", f\"{x0:.6E}\", f\"{f(x0):+.6E}\")\n",
    "            print(f\"{i-1:04d}\", f\"{x1:.6E}\", f\"{f(x1):+.6E}\")\n",
    "\n",
    "        x2 = x1 - (x1 - x0) * f(x1) / ( f(x1) - f(x0) )\n",
    "\n",
    "        xroot.append(x2)\n",
    "        dx = abs(f(x2))\n",
    "\n",
    "        print(f\"{i:04d}\", f\"{x2:.6E}\", f\"{f(x2):+.6E}\")\n",
    "        i += 1\n",
    "        \n",
    "root_secant(f)"
   ]
  },
  {
   "cell_type": "markdown",
   "id": "4c82f20f",
   "metadata": {},
   "source": [
    "Dari nomor 3 dan 4 terlihat bahwa metode scanning membutuhkan langkah lebih banyak daripada metode secant."
   ]
  }
 ],
 "metadata": {
  "kernelspec": {
   "display_name": "Python 3 (ipykernel)",
   "language": "python",
   "name": "python3"
  },
  "language_info": {
   "codemirror_mode": {
    "name": "ipython",
    "version": 3
   },
   "file_extension": ".py",
   "mimetype": "text/x-python",
   "name": "python",
   "nbconvert_exporter": "python",
   "pygments_lexer": "ipython3",
   "version": "3.11.2"
  }
 },
 "nbformat": 4,
 "nbformat_minor": 5
}
